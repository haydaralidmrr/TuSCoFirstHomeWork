{
  "nbformat": 4,
  "nbformat_minor": 0,
  "metadata": {
    "colab": {
      "provenance": [],
      "authorship_tag": "ABX9TyOZ6qFL9X8M2BRrQzkeopK6",
      "include_colab_link": true
    },
    "kernelspec": {
      "name": "python3",
      "display_name": "Python 3"
    },
    "language_info": {
      "name": "python"
    }
  },
  "cells": [
    {
      "cell_type": "markdown",
      "metadata": {
        "id": "view-in-github",
        "colab_type": "text"
      },
      "source": [
        "<a href=\"https://colab.research.google.com/github/haydaralidmrr/TuSCoFirstHomeWork/blob/main/TurkStudentCoFirstHomework.ipynb\" target=\"_parent\"><img src=\"https://colab.research.google.com/assets/colab-badge.svg\" alt=\"Open In Colab\"/></a>"
      ]
    },
    {
      "cell_type": "markdown",
      "source": [
        "Soru: Kullanıcıdan iki sayı alarak bu sayıları toplayan bir programın python kodunu yazın.\n"
      ],
      "metadata": {
        "id": "5QNson7BhRqA"
      }
    },
    {
      "cell_type": "code",
      "execution_count": 1,
      "metadata": {
        "colab": {
          "base_uri": "https://localhost:8080/"
        },
        "id": "S45xguWhhJWb",
        "outputId": "e7ceda24-5ef2-470c-ab30-b7189df65ded"
      },
      "outputs": [
        {
          "output_type": "stream",
          "name": "stdout",
          "text": [
            "First number: 12\n",
            "Second number: 22\n",
            "34\n"
          ]
        }
      ],
      "source": [
        "first_number = int(input(\"First number: \"))\n",
        "second_number = int(input(\"Second number: \"))\n",
        "sum = first_number + second_number\n",
        "print(sum)\n"
      ]
    },
    {
      "cell_type": "markdown",
      "source": [
        "Soru: 1'den 100'e kadar olan sayıları toplayan bir programın python kodunu yazın.\n"
      ],
      "metadata": {
        "id": "Sm85TraZjD4h"
      }
    },
    {
      "cell_type": "code",
      "source": [
        "sum = 0\n",
        "for i in range(1,101):\n",
        "  sum += i\n",
        "\n",
        "print(sum)"
      ],
      "metadata": {
        "colab": {
          "base_uri": "https://localhost:8080/"
        },
        "id": "s_LsT3KHi9py",
        "outputId": "b2c5edd9-b5a1-413c-d17d-7c0ddfce2580"
      },
      "execution_count": 2,
      "outputs": [
        {
          "output_type": "stream",
          "name": "stdout",
          "text": [
            "5050\n"
          ]
        }
      ]
    },
    {
      "cell_type": "markdown",
      "source": [
        "Kullanıcıdan alınan bir sayının asal olup olmadığını bulan bir programın python kodunu yazın.\n"
      ],
      "metadata": {
        "id": "xZsJUKFSjaMs"
      }
    },
    {
      "cell_type": "code",
      "source": [
        "number = int(input(\"Enter a number: \"))\n",
        "if number > 1:\n",
        "  for i in range(2, number):\n",
        "    if (number % i) == 0:\n",
        "      print(number, \"is not a prime number\")\n",
        "      break\n",
        "  else:\n",
        "    print(number, \"is a prime number\")\n",
        "else:\n",
        "  print(\"Enter a number greater than 1\")"
      ],
      "metadata": {
        "colab": {
          "base_uri": "https://localhost:8080/"
        },
        "id": "RNHZZVwWjqpT",
        "outputId": "6150828b-d842-4d42-bd38-977fe788c226"
      },
      "execution_count": 25,
      "outputs": [
        {
          "output_type": "stream",
          "name": "stdout",
          "text": [
            "Enter a number: 2\n",
            "2 is a prime number\n"
          ]
        }
      ]
    },
    {
      "cell_type": "markdown",
      "source": [
        "Soru: Bir dizideki (array) elemanların tekrar edip etmediğini kontrol eden bir programın python kodunu yazın.\n"
      ],
      "metadata": {
        "id": "5_YrmUomkk4D"
      }
    },
    {
      "cell_type": "code",
      "source": [
        "def control_list(list):\n",
        "  new_list = []\n",
        "  this_set = set()\n",
        "  for i in list:\n",
        "    if list.count(i) > 1:\n",
        "      this_set.add(i)\n",
        "  return this_set\n",
        "\n",
        "list = [4,12,55,11,22,52,19,19,1,11,22]\n",
        "if len(control_list(list)) == 0:\n",
        "  print(\"There are no repeated elements in the list\")\n",
        "else:\n",
        "  print(f\"Repeated element or elements:{control_list(list)}\")\n"
      ],
      "metadata": {
        "colab": {
          "base_uri": "https://localhost:8080/"
        },
        "id": "JtNh9xiVkfSu",
        "outputId": "04a6b4e1-1c4a-4aee-f94e-1450fc662db0"
      },
      "execution_count": 21,
      "outputs": [
        {
          "output_type": "stream",
          "name": "stdout",
          "text": [
            "Repeated element or elements:{19, 11, 22}\n"
          ]
        }
      ]
    },
    {
      "cell_type": "code",
      "source": [],
      "metadata": {
        "id": "bh6Ackmek6K6"
      },
      "execution_count": null,
      "outputs": []
    }
  ]
}